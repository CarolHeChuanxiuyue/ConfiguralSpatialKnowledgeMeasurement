{
 "cells": [
  {
   "cell_type": "markdown",
   "source": [
    "#Prepare Enviornment & Import Customized Python Module"
   ],
   "metadata": {
    "id": "Ug6uUjDu5HoY"
   }
  },
  {
   "cell_type": "markdown",
   "source": [
    "from google.colab import drive\n",
    "drive.mount('/content/drive')"
   ],
   "metadata": {
    "collapsed": false
   }
  },
  {
   "cell_type": "markdown",
   "source": [
    "cd /content/drive/MyDrive/Carol_Copy/PointingShortcutting/ImmersiveVR"
   ],
   "metadata": {
    "collapsed": false
   }
  },
  {
   "cell_type": "code",
   "execution_count": 5,
   "outputs": [
    {
     "name": "stdout",
     "output_type": "stream",
     "text": [
      " Volume in drive C has no label.\n",
      " Volume Serial Number is EE66-681F\n",
      "\n",
      " Directory of C:\\Users\\error\\WorkSpace\\HegartyLab\\ConfiguralSpatialKnowledgeMeasurement\\ImmersiveMaze\n",
      "\n",
      "05/09/2023  05:42 PM    <DIR>          .\n",
      "05/09/2023  05:42 PM    <DIR>          ..\n",
      "05/09/2023  01:05 PM             4,589 Desktop_Performance.csv\n",
      "05/09/2023  05:40 PM    <DIR>          dsp_py_module\n",
      "05/09/2023  01:05 PM           311,495 immersive_VR_main_Analysis.ipynb\n",
      "05/09/2023  05:42 PM            66,430 immersive_VR_processs_raw_data.ipynb\n",
      "05/09/2023  01:05 PM           311,495 immersive_VR_supplemental_Analysis.ipynb\n",
      "05/09/2023  01:05 PM    <DIR>          Pointing-Phase1\n",
      "05/09/2023  01:05 PM    <DIR>          Pointing-Phase2\n",
      "05/09/2023  01:05 PM    <DIR>          ProcessedData\n",
      "05/09/2023  01:05 PM    <DIR>          Shortcutting\n",
      "05/09/2023  01:05 PM             5,736 strategy.csv\n",
      "05/09/2023  01:05 PM             1,738 trial_info.csv\n",
      "               6 File(s)        701,483 bytes\n",
      "               7 Dir(s)  756,680,101,888 bytes free\n"
     ]
    }
   ],
   "source": [],
   "metadata": {
    "collapsed": false,
    "ExecuteTime": {
     "start_time": "2023-05-09T17:42:17.896084Z",
     "end_time": "2023-05-09T17:42:17.942126Z"
    }
   }
  },
  {
   "cell_type": "code",
   "source": [
    "import numpy as np\n",
    "import pandas as pd\n",
    "import matplotlib.pyplot as plt\n",
    "import seaborn as sns\n",
    "\n",
    "from dsp_py_module import WayFindingTxtVerifier\n",
    "from dsp_py_module import WayFindingTrajectory\n",
    "from dsp_py_module import WayFindingAnalyzer\n",
    "from dsp_py_module import Pointing"
   ],
   "metadata": {
    "id": "FNhZDh2_1jDj",
    "ExecuteTime": {
     "start_time": "2023-05-11T15:17:54.638267Z",
     "end_time": "2023-05-11T15:17:54.650278Z"
    }
   },
   "execution_count": 11,
   "outputs": []
  },
  {
   "cell_type": "markdown",
   "source": [
    "# Processing Pointing Data"
   ],
   "metadata": {
    "id": "W1vOlW2t5F3l"
   }
  },
  {
   "cell_type": "code",
   "source": [
    "data_path = \"/content/drive/MyDrive/Carol_Copy/PointingShortcutting/ImmersiveVR/Pointing-Phase1\"\n",
    "pp1 = Pointing(data_path)\n",
    "pp1.save(\"ProcessedData/pointingPhase1.csv\")\n",
    "\n",
    "data_path = \"/content/drive/MyDrive/Carol_Copy/PointingShortcutting/ImmersiveVR/Pointing-Phase2\"\n",
    "pp2 = Pointing(data_path)\n",
    "pp2.save(\"ProcessedData/pointingPhase2.csv\")"
   ],
   "metadata": {
    "id": "0ksVkZItcQPn"
   },
   "execution_count": null,
   "outputs": []
  },
  {
   "cell_type": "markdown",
   "source": [
    "# Processing Shortcutting Data"
   ],
   "metadata": {
    "id": "8XUEiuCM5YFC"
   }
  },
  {
   "cell_type": "code",
   "source": [
    "data_path = \"/content/drive/MyDrive/Carol_Copy/PointingShortcutting/ImmersiveVR/Shortcutting\"\n",
    "## get successful rate and response time for each trial\n",
    "txt = WayFindingTxtVerifier(data_path)\n",
    "txt.save(\"ProcessedData/time.csv\")\n",
    "\n",
    "## get trajectory (coordinate files) for each trial\n",
    "trajectory = WayFindingTrajectory('trial_info.csv',data_path)\n",
    "trajectory.clean_data_w_reboot()\n",
    "trajectory.combineTrajectory()\n",
    "trajectory.save_raw(\"ProcessedData/raw_trajectory.csv\")\n",
    "## Process the trajecotries to correct for smoothness and checking starting and ending locations\n",
    "trajectory.processTrajectory()\n",
    "trajectory.save_processed(\"ProcessedData/processed_trajectory.csv\")\n",
    "\n",
    "## get traveled distance and grid distance for each trial\n",
    "# analyzer = WayFindingAnalyzer('ProcessedData/processed_trajectory.csv',data_path)\n",
    "# analyzer.analyze()\n",
    "# analyzer.save(\"ProcessedData/analyzed_trajectory.csv\")"
   ],
   "metadata": {
    "id": "ZpQWx1OB5awA"
   },
   "execution_count": null,
   "outputs": []
  },
  {
   "cell_type": "markdown",
   "source": [
    "# Check & Plot Trajectories"
   ],
   "metadata": {
    "id": "xCsaC1D-tQCb"
   }
  },
  {
   "cell_type": "code",
   "source": [
    "traj_post = pd.read_csv(\"ProcessedData/processed_trajectory.csv\")\n",
    "strategy = pd.read_csv(\"strategy.csv\")\n",
    "wftime = pd.read_csv(\"ProcessedData/time.csv\")\n",
    "wftrajc = pd.read_csv(\"ProcessedData/analyzed_trajectory.csv\")\n",
    "performance = wftrajc.merge(wftime, how = 'left', on=['ParticipantID','TrialNumber'])\n",
    "\n",
    "def get_sample(strategy,performance,trial,target):\n",
    "  sample = strategy[strategy['Trial'+str(trial)]==target].Subject.to_list()\n",
    "  tmp = performance[(performance.Status=='Success') \\\n",
    "                     & (performance.TrialNumber == trial) \\\n",
    "                     & (performance.ParticipantID.isin(sample))][['ParticipantID','LevelDistanceTraveled','grid_distance','human_distance']]\n",
    "  return tmp\n"
   ],
   "metadata": {
    "id": "_g67zKq-EZht"
   },
   "execution_count": null,
   "outputs": []
  },
  {
   "cell_type": "code",
   "source": [
    "sample_results = get_sample(strategy,performance,8,'learned').sort_values(by=['LevelDistanceTraveled','grid_distance','ParticipantID'])\n",
    "sample_results"
   ],
   "metadata": {
    "colab": {
     "base_uri": "https://localhost:8080/",
     "height": 81
    },
    "id": "MfD-Wd4HFq-M",
    "outputId": "ffd3d946-6c01-4a28-fff5-bea77bb9e7a9"
   },
   "execution_count": null,
   "outputs": [
    {
     "output_type": "execute_result",
     "data": {
      "text/plain": [
       "     ParticipantID  LevelDistanceTraveled  grid_distance  human_distance\n",
       "799            443                  15.48           18.4           15.53"
      ],
      "text/html": [
       "\n",
       "  <div id=\"df-ffc79942-0e73-43c0-a3b6-744d8bfff562\">\n",
       "    <div class=\"colab-df-container\">\n",
       "      <div>\n",
       "<style scoped>\n",
       "    .dataframe tbody tr th:only-of-type {\n",
       "        vertical-align: middle;\n",
       "    }\n",
       "\n",
       "    .dataframe tbody tr th {\n",
       "        vertical-align: top;\n",
       "    }\n",
       "\n",
       "    .dataframe thead th {\n",
       "        text-align: right;\n",
       "    }\n",
       "</style>\n",
       "<table border=\"1\" class=\"dataframe\">\n",
       "  <thead>\n",
       "    <tr style=\"text-align: right;\">\n",
       "      <th></th>\n",
       "      <th>ParticipantID</th>\n",
       "      <th>LevelDistanceTraveled</th>\n",
       "      <th>grid_distance</th>\n",
       "      <th>human_distance</th>\n",
       "    </tr>\n",
       "  </thead>\n",
       "  <tbody>\n",
       "    <tr>\n",
       "      <th>799</th>\n",
       "      <td>443</td>\n",
       "      <td>15.48</td>\n",
       "      <td>18.4</td>\n",
       "      <td>15.53</td>\n",
       "    </tr>\n",
       "  </tbody>\n",
       "</table>\n",
       "</div>\n",
       "      <button class=\"colab-df-convert\" onclick=\"convertToInteractive('df-ffc79942-0e73-43c0-a3b6-744d8bfff562')\"\n",
       "              title=\"Convert this dataframe to an interactive table.\"\n",
       "              style=\"display:none;\">\n",
       "        \n",
       "  <svg xmlns=\"http://www.w3.org/2000/svg\" height=\"24px\"viewBox=\"0 0 24 24\"\n",
       "       width=\"24px\">\n",
       "    <path d=\"M0 0h24v24H0V0z\" fill=\"none\"/>\n",
       "    <path d=\"M18.56 5.44l.94 2.06.94-2.06 2.06-.94-2.06-.94-.94-2.06-.94 2.06-2.06.94zm-11 1L8.5 8.5l.94-2.06 2.06-.94-2.06-.94L8.5 2.5l-.94 2.06-2.06.94zm10 10l.94 2.06.94-2.06 2.06-.94-2.06-.94-.94-2.06-.94 2.06-2.06.94z\"/><path d=\"M17.41 7.96l-1.37-1.37c-.4-.4-.92-.59-1.43-.59-.52 0-1.04.2-1.43.59L10.3 9.45l-7.72 7.72c-.78.78-.78 2.05 0 2.83L4 21.41c.39.39.9.59 1.41.59.51 0 1.02-.2 1.41-.59l7.78-7.78 2.81-2.81c.8-.78.8-2.07 0-2.86zM5.41 20L4 18.59l7.72-7.72 1.47 1.35L5.41 20z\"/>\n",
       "  </svg>\n",
       "      </button>\n",
       "      \n",
       "  <style>\n",
       "    .colab-df-container {\n",
       "      display:flex;\n",
       "      flex-wrap:wrap;\n",
       "      gap: 12px;\n",
       "    }\n",
       "\n",
       "    .colab-df-convert {\n",
       "      background-color: #E8F0FE;\n",
       "      border: none;\n",
       "      border-radius: 50%;\n",
       "      cursor: pointer;\n",
       "      display: none;\n",
       "      fill: #1967D2;\n",
       "      height: 32px;\n",
       "      padding: 0 0 0 0;\n",
       "      width: 32px;\n",
       "    }\n",
       "\n",
       "    .colab-df-convert:hover {\n",
       "      background-color: #E2EBFA;\n",
       "      box-shadow: 0px 1px 2px rgba(60, 64, 67, 0.3), 0px 1px 3px 1px rgba(60, 64, 67, 0.15);\n",
       "      fill: #174EA6;\n",
       "    }\n",
       "\n",
       "    [theme=dark] .colab-df-convert {\n",
       "      background-color: #3B4455;\n",
       "      fill: #D2E3FC;\n",
       "    }\n",
       "\n",
       "    [theme=dark] .colab-df-convert:hover {\n",
       "      background-color: #434B5C;\n",
       "      box-shadow: 0px 1px 3px 1px rgba(0, 0, 0, 0.15);\n",
       "      filter: drop-shadow(0px 1px 2px rgba(0, 0, 0, 0.3));\n",
       "      fill: #FFFFFF;\n",
       "    }\n",
       "  </style>\n",
       "\n",
       "      <script>\n",
       "        const buttonEl =\n",
       "          document.querySelector('#df-ffc79942-0e73-43c0-a3b6-744d8bfff562 button.colab-df-convert');\n",
       "        buttonEl.style.display =\n",
       "          google.colab.kernel.accessAllowed ? 'block' : 'none';\n",
       "\n",
       "        async function convertToInteractive(key) {\n",
       "          const element = document.querySelector('#df-ffc79942-0e73-43c0-a3b6-744d8bfff562');\n",
       "          const dataTable =\n",
       "            await google.colab.kernel.invokeFunction('convertToInteractive',\n",
       "                                                     [key], {});\n",
       "          if (!dataTable) return;\n",
       "\n",
       "          const docLinkHtml = 'Like what you see? Visit the ' +\n",
       "            '<a target=\"_blank\" href=https://colab.research.google.com/notebooks/data_table.ipynb>data table notebook</a>'\n",
       "            + ' to learn more about interactive tables.';\n",
       "          element.innerHTML = '';\n",
       "          dataTable['output_type'] = 'display_data';\n",
       "          await google.colab.output.renderOutput(dataTable, element);\n",
       "          const docLink = document.createElement('div');\n",
       "          docLink.innerHTML = docLinkHtml;\n",
       "          element.appendChild(docLink);\n",
       "        }\n",
       "      </script>\n",
       "    </div>\n",
       "  </div>\n",
       "  "
      ]
     },
     "metadata": {},
     "execution_count": 56
    }
   ]
  },
  {
   "cell_type": "code",
   "source": [
    "traj_post[(traj_post.TrialNum ==24) & (traj_post.SubjectNum==438)]"
   ],
   "metadata": {
    "colab": {
     "base_uri": "https://localhost:8080/",
     "height": 488
    },
    "id": "LR3S0UZw2J9z",
    "outputId": "3d1262df-3c28-452e-d967-52b4b5e91af8"
   },
   "execution_count": null,
   "outputs": [
    {
     "output_type": "execute_result",
     "data": {
      "text/plain": [
       "       SubjectNum  TrialNum   Time         X         Z       X_d       Z_d\n",
       "11274         438        24  341.0  1.081632 -3.221322  0.799805 -3.099609\n",
       "11275         438        24  341.0  1.230271 -3.128129  1.599609 -3.099609\n",
       "11276         438        24  342.0  1.536593 -2.922919  1.599609 -3.099609\n",
       "11277         438        24  343.0  1.923062 -2.516510  1.599609 -3.099609\n",
       "11278         438        24  343.0  1.979146 -2.376094  1.599609 -2.000000\n",
       "11279         438        24  343.0  2.007201 -2.237605  2.500000 -2.000000\n",
       "11280         438        24  344.0  1.955934 -1.799817  1.599609 -2.000000\n",
       "11281         438        24  344.0  2.041816 -1.523038  2.500000 -2.000000\n",
       "11282         438        24  344.0  2.085891 -1.389362  2.500000 -1.000000\n",
       "11283         438        24  345.0  2.124309 -1.255756  2.500000 -1.000000\n",
       "11284         438        24  346.0  2.553836 -0.698936  2.500000 -1.000000\n",
       "11285         438        24  346.0  2.672039 -0.405996  2.500000  0.000000\n",
       "11286         438        24  347.0  2.800363 -0.091956  2.500000  0.000000\n",
       "11287         438        24  347.0  2.500000  0.899902  2.500000  0.899902"
      ],
      "text/html": [
       "\n",
       "  <div id=\"df-cbc066a4-9c30-4e5b-825b-ddd3e071fed1\">\n",
       "    <div class=\"colab-df-container\">\n",
       "      <div>\n",
       "<style scoped>\n",
       "    .dataframe tbody tr th:only-of-type {\n",
       "        vertical-align: middle;\n",
       "    }\n",
       "\n",
       "    .dataframe tbody tr th {\n",
       "        vertical-align: top;\n",
       "    }\n",
       "\n",
       "    .dataframe thead th {\n",
       "        text-align: right;\n",
       "    }\n",
       "</style>\n",
       "<table border=\"1\" class=\"dataframe\">\n",
       "  <thead>\n",
       "    <tr style=\"text-align: right;\">\n",
       "      <th></th>\n",
       "      <th>SubjectNum</th>\n",
       "      <th>TrialNum</th>\n",
       "      <th>Time</th>\n",
       "      <th>X</th>\n",
       "      <th>Z</th>\n",
       "      <th>X_d</th>\n",
       "      <th>Z_d</th>\n",
       "    </tr>\n",
       "  </thead>\n",
       "  <tbody>\n",
       "    <tr>\n",
       "      <th>11274</th>\n",
       "      <td>438</td>\n",
       "      <td>24</td>\n",
       "      <td>341.0</td>\n",
       "      <td>1.081632</td>\n",
       "      <td>-3.221322</td>\n",
       "      <td>0.799805</td>\n",
       "      <td>-3.099609</td>\n",
       "    </tr>\n",
       "    <tr>\n",
       "      <th>11275</th>\n",
       "      <td>438</td>\n",
       "      <td>24</td>\n",
       "      <td>341.0</td>\n",
       "      <td>1.230271</td>\n",
       "      <td>-3.128129</td>\n",
       "      <td>1.599609</td>\n",
       "      <td>-3.099609</td>\n",
       "    </tr>\n",
       "    <tr>\n",
       "      <th>11276</th>\n",
       "      <td>438</td>\n",
       "      <td>24</td>\n",
       "      <td>342.0</td>\n",
       "      <td>1.536593</td>\n",
       "      <td>-2.922919</td>\n",
       "      <td>1.599609</td>\n",
       "      <td>-3.099609</td>\n",
       "    </tr>\n",
       "    <tr>\n",
       "      <th>11277</th>\n",
       "      <td>438</td>\n",
       "      <td>24</td>\n",
       "      <td>343.0</td>\n",
       "      <td>1.923062</td>\n",
       "      <td>-2.516510</td>\n",
       "      <td>1.599609</td>\n",
       "      <td>-3.099609</td>\n",
       "    </tr>\n",
       "    <tr>\n",
       "      <th>11278</th>\n",
       "      <td>438</td>\n",
       "      <td>24</td>\n",
       "      <td>343.0</td>\n",
       "      <td>1.979146</td>\n",
       "      <td>-2.376094</td>\n",
       "      <td>1.599609</td>\n",
       "      <td>-2.000000</td>\n",
       "    </tr>\n",
       "    <tr>\n",
       "      <th>11279</th>\n",
       "      <td>438</td>\n",
       "      <td>24</td>\n",
       "      <td>343.0</td>\n",
       "      <td>2.007201</td>\n",
       "      <td>-2.237605</td>\n",
       "      <td>2.500000</td>\n",
       "      <td>-2.000000</td>\n",
       "    </tr>\n",
       "    <tr>\n",
       "      <th>11280</th>\n",
       "      <td>438</td>\n",
       "      <td>24</td>\n",
       "      <td>344.0</td>\n",
       "      <td>1.955934</td>\n",
       "      <td>-1.799817</td>\n",
       "      <td>1.599609</td>\n",
       "      <td>-2.000000</td>\n",
       "    </tr>\n",
       "    <tr>\n",
       "      <th>11281</th>\n",
       "      <td>438</td>\n",
       "      <td>24</td>\n",
       "      <td>344.0</td>\n",
       "      <td>2.041816</td>\n",
       "      <td>-1.523038</td>\n",
       "      <td>2.500000</td>\n",
       "      <td>-2.000000</td>\n",
       "    </tr>\n",
       "    <tr>\n",
       "      <th>11282</th>\n",
       "      <td>438</td>\n",
       "      <td>24</td>\n",
       "      <td>344.0</td>\n",
       "      <td>2.085891</td>\n",
       "      <td>-1.389362</td>\n",
       "      <td>2.500000</td>\n",
       "      <td>-1.000000</td>\n",
       "    </tr>\n",
       "    <tr>\n",
       "      <th>11283</th>\n",
       "      <td>438</td>\n",
       "      <td>24</td>\n",
       "      <td>345.0</td>\n",
       "      <td>2.124309</td>\n",
       "      <td>-1.255756</td>\n",
       "      <td>2.500000</td>\n",
       "      <td>-1.000000</td>\n",
       "    </tr>\n",
       "    <tr>\n",
       "      <th>11284</th>\n",
       "      <td>438</td>\n",
       "      <td>24</td>\n",
       "      <td>346.0</td>\n",
       "      <td>2.553836</td>\n",
       "      <td>-0.698936</td>\n",
       "      <td>2.500000</td>\n",
       "      <td>-1.000000</td>\n",
       "    </tr>\n",
       "    <tr>\n",
       "      <th>11285</th>\n",
       "      <td>438</td>\n",
       "      <td>24</td>\n",
       "      <td>346.0</td>\n",
       "      <td>2.672039</td>\n",
       "      <td>-0.405996</td>\n",
       "      <td>2.500000</td>\n",
       "      <td>0.000000</td>\n",
       "    </tr>\n",
       "    <tr>\n",
       "      <th>11286</th>\n",
       "      <td>438</td>\n",
       "      <td>24</td>\n",
       "      <td>347.0</td>\n",
       "      <td>2.800363</td>\n",
       "      <td>-0.091956</td>\n",
       "      <td>2.500000</td>\n",
       "      <td>0.000000</td>\n",
       "    </tr>\n",
       "    <tr>\n",
       "      <th>11287</th>\n",
       "      <td>438</td>\n",
       "      <td>24</td>\n",
       "      <td>347.0</td>\n",
       "      <td>2.500000</td>\n",
       "      <td>0.899902</td>\n",
       "      <td>2.500000</td>\n",
       "      <td>0.899902</td>\n",
       "    </tr>\n",
       "  </tbody>\n",
       "</table>\n",
       "</div>\n",
       "      <button class=\"colab-df-convert\" onclick=\"convertToInteractive('df-cbc066a4-9c30-4e5b-825b-ddd3e071fed1')\"\n",
       "              title=\"Convert this dataframe to an interactive table.\"\n",
       "              style=\"display:none;\">\n",
       "        \n",
       "  <svg xmlns=\"http://www.w3.org/2000/svg\" height=\"24px\"viewBox=\"0 0 24 24\"\n",
       "       width=\"24px\">\n",
       "    <path d=\"M0 0h24v24H0V0z\" fill=\"none\"/>\n",
       "    <path d=\"M18.56 5.44l.94 2.06.94-2.06 2.06-.94-2.06-.94-.94-2.06-.94 2.06-2.06.94zm-11 1L8.5 8.5l.94-2.06 2.06-.94-2.06-.94L8.5 2.5l-.94 2.06-2.06.94zm10 10l.94 2.06.94-2.06 2.06-.94-2.06-.94-.94-2.06-.94 2.06-2.06.94z\"/><path d=\"M17.41 7.96l-1.37-1.37c-.4-.4-.92-.59-1.43-.59-.52 0-1.04.2-1.43.59L10.3 9.45l-7.72 7.72c-.78.78-.78 2.05 0 2.83L4 21.41c.39.39.9.59 1.41.59.51 0 1.02-.2 1.41-.59l7.78-7.78 2.81-2.81c.8-.78.8-2.07 0-2.86zM5.41 20L4 18.59l7.72-7.72 1.47 1.35L5.41 20z\"/>\n",
       "  </svg>\n",
       "      </button>\n",
       "      \n",
       "  <style>\n",
       "    .colab-df-container {\n",
       "      display:flex;\n",
       "      flex-wrap:wrap;\n",
       "      gap: 12px;\n",
       "    }\n",
       "\n",
       "    .colab-df-convert {\n",
       "      background-color: #E8F0FE;\n",
       "      border: none;\n",
       "      border-radius: 50%;\n",
       "      cursor: pointer;\n",
       "      display: none;\n",
       "      fill: #1967D2;\n",
       "      height: 32px;\n",
       "      padding: 0 0 0 0;\n",
       "      width: 32px;\n",
       "    }\n",
       "\n",
       "    .colab-df-convert:hover {\n",
       "      background-color: #E2EBFA;\n",
       "      box-shadow: 0px 1px 2px rgba(60, 64, 67, 0.3), 0px 1px 3px 1px rgba(60, 64, 67, 0.15);\n",
       "      fill: #174EA6;\n",
       "    }\n",
       "\n",
       "    [theme=dark] .colab-df-convert {\n",
       "      background-color: #3B4455;\n",
       "      fill: #D2E3FC;\n",
       "    }\n",
       "\n",
       "    [theme=dark] .colab-df-convert:hover {\n",
       "      background-color: #434B5C;\n",
       "      box-shadow: 0px 1px 3px 1px rgba(0, 0, 0, 0.15);\n",
       "      filter: drop-shadow(0px 1px 2px rgba(0, 0, 0, 0.3));\n",
       "      fill: #FFFFFF;\n",
       "    }\n",
       "  </style>\n",
       "\n",
       "      <script>\n",
       "        const buttonEl =\n",
       "          document.querySelector('#df-cbc066a4-9c30-4e5b-825b-ddd3e071fed1 button.colab-df-convert');\n",
       "        buttonEl.style.display =\n",
       "          google.colab.kernel.accessAllowed ? 'block' : 'none';\n",
       "\n",
       "        async function convertToInteractive(key) {\n",
       "          const element = document.querySelector('#df-cbc066a4-9c30-4e5b-825b-ddd3e071fed1');\n",
       "          const dataTable =\n",
       "            await google.colab.kernel.invokeFunction('convertToInteractive',\n",
       "                                                     [key], {});\n",
       "          if (!dataTable) return;\n",
       "\n",
       "          const docLinkHtml = 'Like what you see? Visit the ' +\n",
       "            '<a target=\"_blank\" href=https://colab.research.google.com/notebooks/data_table.ipynb>data table notebook</a>'\n",
       "            + ' to learn more about interactive tables.';\n",
       "          element.innerHTML = '';\n",
       "          dataTable['output_type'] = 'display_data';\n",
       "          await google.colab.output.renderOutput(dataTable, element);\n",
       "          const docLink = document.createElement('div');\n",
       "          docLink.innerHTML = docLinkHtml;\n",
       "          element.appendChild(docLink);\n",
       "        }\n",
       "      </script>\n",
       "    </div>\n",
       "  </div>\n",
       "  "
      ]
     },
     "metadata": {},
     "execution_count": 7
    }
   ]
  },
  {
   "cell_type": "code",
   "source": [
    "plotnum = sample_results.ParticipantID.nunique()\n",
    "grouped = traj_post[(traj_post.TrialNum ==9) & (traj_post.SubjectNum.isin(sample_results.ParticipantID.to_list()))].groupby('SubjectNum')\n",
    "fig, axs = plt.subplots(plotnum,figsize=(7,5*plotnum),sharex=True, sharey=True)\n",
    "i=0\n",
    "for key, gp in grouped:\n",
    "  gp.plot(ax=axs[i],x='X',y='Z',color ='blue',alpha = 0.5)\n",
    "  gp.plot(ax=axs[i],x='X_d',y='Z_d',color ='red',alpha = 0.5)\n",
    "  axs[i].set_title('Subject=%s'%key)\n",
    "  axs[i].get_legend().remove()\n",
    "  i=i+1\n",
    "plt.show()"
   ],
   "metadata": {
    "colab": {
     "base_uri": "https://localhost:8080/",
     "height": 894
    },
    "id": "l9ONG2Y4vTRD",
    "outputId": "a3d76639-eeeb-43a0-d28a-44922a9a89e5"
   },
   "execution_count": null,
   "outputs": [
    {
     "output_type": "display_data",
     "data": {
      "text/plain": [
       "<Figure size 504x1080 with 3 Axes>"
      ],
      "image/png": "[encoded data removed]"
     },
     "metadata": {
      "needs_background": "light"
     }
    }
   ]
  }
 ],
 "metadata": {
  "colab": {
   "provenance": [
    {
     "file_id": "1Qk53mbM8NPi-vuGwJa35N08qeSVoG0qj",
     "timestamp": 1670706811534
    },
    {
     "file_id": "https://github.com/CarolHeChuanxiuyue/Psychonomics_Spatial_Cognition/blob/main/immersive_VR_main_Analysis.ipynb",
     "timestamp": 1670632782991
    }
   ],
   "collapsed_sections": [
    "T57wb6oLrqeq",
    "uPYYChxvr6iQ",
    "dnFGsg5gsGq6"
   ]
  },
  "kernelspec": {
   "name": "python3",
   "language": "python",
   "display_name": "Python 3 (ipykernel)"
  },
  "language_info": {
   "name": "python"
  }
 },
 "nbformat": 4,
 "nbformat_minor": 0
}
