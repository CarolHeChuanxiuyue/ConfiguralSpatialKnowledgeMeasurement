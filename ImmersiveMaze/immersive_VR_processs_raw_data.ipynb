{
 "cells": [
  {
   "cell_type": "markdown",
   "source": [
    "#Prepare Enviornment & Import Customized Python Module"
   ],
   "metadata": {
    "id": "Ug6uUjDu5HoY"
   }
  },
  {
   "cell_type": "code",
   "execution_count": null,
   "outputs": [],
   "source": [
    "from google.colab import drive\n",
    "\n",
    "drive.mount('/content/drive')"
   ],
   "metadata": {
    "collapsed": false
   }
  },
  {
   "cell_type": "code",
   "execution_count": null,
   "outputs": [],
   "source": [
    "cd / content / drive / MyDrive / Carol_Copy / PointingShortcutting / ImmersiveVR"
   ],
   "metadata": {
    "collapsed": false
   }
  },
  {
   "cell_type": "code",
   "execution_count": 5,
   "outputs": [
    {
     "name": "stdout",
     "output_type": "stream",
     "text": [
      " Volume in drive C has no label.\n",
      " Volume Serial Number is EE66-681F\n",
      "\n",
      " Directory of C:\\Users\\error\\WorkSpace\\HegartyLab\\ConfiguralSpatialKnowledgeMeasurement\\ImmersiveMaze\n",
      "\n",
      "05/09/2023  05:42 PM    <DIR>          .\n",
      "05/09/2023  05:42 PM    <DIR>          ..\n",
      "05/09/2023  01:05 PM             4,589 Desktop_Performance.csv\n",
      "05/09/2023  05:40 PM    <DIR>          dsp_py_module\n",
      "05/09/2023  01:05 PM           311,495 immersive_VR_main_Analysis.ipynb\n",
      "05/09/2023  05:42 PM            66,430 immersive_VR_processs_raw_data.ipynb\n",
      "05/09/2023  01:05 PM           311,495 immersive_VR_supplemental_Analysis.ipynb\n",
      "05/09/2023  01:05 PM    <DIR>          Pointing-Phase1\n",
      "05/09/2023  01:05 PM    <DIR>          Pointing-Phase2\n",
      "05/09/2023  01:05 PM    <DIR>          ProcessedData\n",
      "05/09/2023  01:05 PM    <DIR>          Shortcutting\n",
      "05/09/2023  01:05 PM             5,736 strategy.csv\n",
      "05/09/2023  01:05 PM             1,738 trial_info.csv\n",
      "               6 File(s)        701,483 bytes\n",
      "               7 Dir(s)  756,680,101,888 bytes free\n"
     ]
    }
   ],
   "source": [
    "!pip install similaritymeasures"
   ],
   "metadata": {
    "collapsed": false,
    "ExecuteTime": {
     "start_time": "2023-05-09T17:42:17.896084Z",
     "end_time": "2023-05-09T17:42:17.942126Z"
    }
   }
  },
  {
   "cell_type": "code",
   "source": [
    "import numpy as np\n",
    "import pandas as pd\n",
    "import matplotlib.pyplot as plt\n",
    "import seaborn as sns\n",
    "\n",
    "from dsp_py_module import Pointing"
   ],
   "metadata": {
    "id": "FNhZDh2_1jDj",
    "ExecuteTime": {
     "start_time": "2023-05-11T15:17:54.638267Z",
     "end_time": "2023-05-11T15:17:54.650278Z"
    }
   },
   "execution_count": 11,
   "outputs": []
  },
  {
   "cell_type": "markdown",
   "source": [
    "# Processing Pointing Data"
   ],
   "metadata": {
    "id": "W1vOlW2t5F3l"
   }
  },
  {
   "cell_type": "code",
   "source": [
    "data_path = \"/content/drive/MyDrive/Carol_Copy/PointingShortcutting/ImmersiveVR/Pointing-Phase1\"\n",
    "pp1 = Pointing(data_path)\n",
    "pp1.save(\"ProcessedData/pointingPhase1.csv\")\n",
    "\n",
    "data_path = \"/content/drive/MyDrive/Carol_Copy/PointingShortcutting/ImmersiveVR/Pointing-Phase2\"\n",
    "pp2 = Pointing(data_path)\n",
    "pp2.save(\"ProcessedData/pointingPhase2.csv\")"
   ],
   "metadata": {
    "id": "0ksVkZItcQPn"
   },
   "execution_count": null,
   "outputs": []
  },
  {
   "cell_type": "markdown",
   "source": [
    "# Processing Shortcutting Data"
   ],
   "metadata": {
    "id": "8XUEiuCM5YFC"
   }
  },
  {
   "cell_type": "code",
   "execution_count": 2,
   "outputs": [
    {
     "name": "stdout",
     "output_type": "stream",
     "text": [
      "ShortcutMap: Loaded 12 objects\n",
      "ShortcutMap: Loaded 12 objects\n",
      "Plotting Mailbox to Chair\n",
      "Plotting Mailbox to Plant\n",
      "Plotting Mailbox to Well\n",
      "Plotting Mailbox to Harp\n",
      "Plotting Mailbox to Telescope\n",
      "Plotting Mailbox to Wheelbarrow\n",
      "Plotting Mailbox to Bookshelf\n",
      "Plotting Mailbox to Trashcan\n",
      "Plotting Mailbox to Table\n",
      "Plotting Mailbox to Stove\n",
      "Plotting Mailbox to Piano\n",
      "Plotting Chair to Plant\n",
      "Plotting Chair to Well\n",
      "Plotting Chair to Harp\n",
      "Plotting Chair to Telescope\n",
      "Plotting Chair to Wheelbarrow\n",
      "Plotting Chair to Bookshelf\n",
      "Plotting Chair to Trashcan\n",
      "Plotting Chair to Table\n",
      "Plotting Chair to Stove\n",
      "Plotting Chair to Piano\n",
      "Plotting Plant to Well\n",
      "Plotting Plant to Harp\n",
      "Plotting Plant to Telescope\n",
      "Plotting Plant to Wheelbarrow\n",
      "Plotting Plant to Bookshelf\n",
      "Plotting Plant to Trashcan\n",
      "Plotting Plant to Table\n",
      "Plotting Plant to Stove\n",
      "Plotting Plant to Piano\n",
      "Plotting Well to Harp\n",
      "Plotting Well to Telescope\n",
      "Plotting Well to Wheelbarrow\n",
      "Plotting Well to Bookshelf\n",
      "Plotting Well to Trashcan\n",
      "Plotting Well to Table\n",
      "Plotting Well to Stove\n",
      "Plotting Well to Piano\n",
      "Plotting Harp to Telescope\n",
      "Plotting Harp to Wheelbarrow\n",
      "Plotting Harp to Bookshelf\n",
      "Plotting Harp to Trashcan\n",
      "Plotting Harp to Table\n",
      "Plotting Harp to Stove\n",
      "Plotting Harp to Piano\n",
      "Plotting Telescope to Wheelbarrow\n",
      "Plotting Telescope to Bookshelf\n",
      "Plotting Telescope to Trashcan\n",
      "Plotting Telescope to Table\n",
      "Plotting Telescope to Stove\n",
      "Plotting Telescope to Piano\n",
      "Plotting Wheelbarrow to Bookshelf\n",
      "Plotting Wheelbarrow to Trashcan\n",
      "Plotting Wheelbarrow to Table\n",
      "Plotting Wheelbarrow to Stove\n",
      "Plotting Wheelbarrow to Piano\n",
      "Plotting Bookshelf to Trashcan\n",
      "Plotting Bookshelf to Table\n",
      "Plotting Bookshelf to Stove\n",
      "Plotting Bookshelf to Piano\n",
      "Plotting Trashcan to Table\n",
      "Plotting Trashcan to Stove\n",
      "Plotting Trashcan to Piano\n",
      "Plotting Table to Stove\n",
      "Plotting Table to Piano\n",
      "Plotting Stove to Piano\n"
     ]
    },
    {
     "data": {
      "text/plain": "<Figure size 480x480 with 1 Axes>",
      "image/png": "[encoded data removed]"
     },
     "metadata": {},
     "output_type": "display_data"
    }
   ],
   "source": [
    "from dsp_py_module import ShortcutMap\n",
    "from dsp_py_module import Strategy\n",
    "\n",
    "shortcut_map = ShortcutMap(\"walls.csv\", \"objects.csv\", \"ProcessedData/shortcuts.csv\")\n",
    "learning_map = ShortcutMap(\"learning_walls.csv\", \"objects.csv\", \"ProcessedData/learning_shortcuts.csv\", learning=True)\n",
    "strategy = Strategy(\"survey_map.txt\", \"landmarks_on_survey_map.txt\", shortcut_map)\n",
    "strategy.get_all_topological_plots(save_only=True)"
   ],
   "metadata": {
    "collapsed": false,
    "ExecuteTime": {
     "start_time": "2023-05-26T14:28:02.761919Z",
     "end_time": "2023-05-26T14:28:10.585704Z"
    }
   }
  },
  {
   "cell_type": "code",
   "source": [
    "# data_path = \"/content/drive/MyDrive/Carol_Copy/PointingShortcutting/ImmersiveVR/Shortcutting\"\n",
    "from dsp_py_module import WayFindingTxtVerifier\n",
    "\n",
    "data_path = \"Shortcutting\"\n",
    "trial_info = \"trial_info.csv\"\n",
    "## get successful rate and response time for each trial\n",
    "txt = WayFindingTxtVerifier(data_path)\n",
    "txt.save(\"ProcessedData/time.csv\")"
   ],
   "metadata": {
    "id": "ZpQWx1OB5awA",
    "ExecuteTime": {
     "start_time": "2023-05-26T14:28:14.464229Z",
     "end_time": "2023-05-26T14:28:14.898623Z"
    }
   },
   "execution_count": 3,
   "outputs": []
  },
  {
   "cell_type": "code",
   "execution_count": 4,
   "outputs": [
    {
     "name": "stdout",
     "output_type": "stream",
     "text": [
      "Processing subject number: 401...\n",
      "Processing subject number: 402...\n",
      "Processing subject number: 403...\n",
      "Processing subject number: 404...\n",
      "Processing subject number: 405...\n",
      "Processing subject number: 406...\n",
      "Processing subject number: 407...\n",
      "Processing subject number: 408...\n",
      "Processing subject number: 409...\n",
      "Processing subject number: 410...\n",
      "Processing subject number: 411...\n",
      "Processing subject number: 412...\n",
      "Processing subject number: 413...\n",
      "Processing subject number: 414...\n",
      "Processing subject number: 415...\n",
      "Processing subject number: 416...\n",
      "Processing subject number: 417...\n",
      "Processing subject number: 418...\n",
      "Processing subject number: 419...\n",
      "Processing subject number: 420...\n",
      "Processing subject number: 421...\n",
      "Processing subject number: 422...\n",
      "Processing subject number: 423...\n",
      "Processing subject number: 424...\n",
      "Processing subject number: 425...\n",
      "Processing subject number: 426...\n",
      "Processing subject number: 428...\n",
      "Processing subject number: 429...\n",
      "Processing subject number: 430...\n",
      "Processing subject number: 431...\n",
      "Processing subject number: 432...\n",
      "Processing subject number: 433...\n",
      "Processing subject number: 435...\n",
      "Processing subject number: 436...\n",
      "Processing subject number: 437...\n",
      "Processing subject number: 438...\n",
      "Processing subject number: 439...\n",
      "Processing subject number: 440...\n",
      "Processing subject number: 442...\n",
      "Processing subject number: 443...\n",
      "Processing subject number: 444...\n",
      "Processing subject number: 445...\n",
      "Processing subject number: 446...\n",
      "Processing subject number: 447...\n",
      "Processing subject number: 448...\n",
      "Processing subject number: 449...\n",
      "Processing subject number: 450...\n",
      "Processing subject number: 451...\n"
     ]
    }
   ],
   "source": [
    "from dsp_py_module import WayFindingTrajectory\n",
    "\n",
    "## get trajectory (coordinate files) for each trial\n",
    "trajectory = WayFindingTrajectory(trial_info, data_path, shortcut_map=shortcut_map)\n",
    "trajectory.clean_data_w_reboot()\n",
    "trajectory.combineTrajectory()\n",
    "trajectory.processTrajectory()\n",
    "trajectory.save_processed(\"ProcessedData/processed_trajectory.csv\")\n",
    "trajectory.save_discrete(\"ProcessedData/discrete_trajectory.csv\")"
   ],
   "metadata": {
    "collapsed": false,
    "ExecuteTime": {
     "start_time": "2023-05-23T15:11:33.564110Z",
     "end_time": "2023-05-23T15:11:49.062270Z"
    }
   }
  },
  {
   "cell_type": "code",
   "execution_count": 5,
   "outputs": [
    {
     "name": "stdout",
     "output_type": "stream",
     "text": [
      "Calculating Frechet distance for subject: 401...\n",
      "Calculating Frechet distance for subject: 402...\n",
      "Calculating Frechet distance for subject: 403...\n",
      "Calculating Frechet distance for subject: 404...\n",
      "Calculating Frechet distance for subject: 405...\n",
      "Calculating Frechet distance for subject: 406...\n",
      "Calculating Frechet distance for subject: 407...\n",
      "Calculating Frechet distance for subject: 408...\n",
      "Calculating Frechet distance for subject: 409...\n",
      "Calculating Frechet distance for subject: 410...\n",
      "Calculating Frechet distance for subject: 411...\n",
      "Calculating Frechet distance for subject: 412...\n",
      "Calculating Frechet distance for subject: 413...\n",
      "Calculating Frechet distance for subject: 414...\n",
      "Calculating Frechet distance for subject: 415...\n",
      "Calculating Frechet distance for subject: 416...\n",
      "Calculating Frechet distance for subject: 417...\n",
      "Calculating Frechet distance for subject: 418...\n",
      "Calculating Frechet distance for subject: 419...\n",
      "Calculating Frechet distance for subject: 420...\n",
      "Calculating Frechet distance for subject: 421...\n",
      "Calculating Frechet distance for subject: 422...\n",
      "Calculating Frechet distance for subject: 423...\n",
      "Calculating Frechet distance for subject: 424...\n",
      "Calculating Frechet distance for subject: 425...\n",
      "Calculating Frechet distance for subject: 426...\n",
      "Calculating Frechet distance for subject: 428...\n",
      "Calculating Frechet distance for subject: 429...\n",
      "Calculating Frechet distance for subject: 430...\n",
      "Calculating Frechet distance for subject: 431...\n",
      "Calculating Frechet distance for subject: 432...\n",
      "Calculating Frechet distance for subject: 433...\n",
      "Calculating Frechet distance for subject: 435...\n",
      "Calculating Frechet distance for subject: 436...\n",
      "Calculating Frechet distance for subject: 437...\n",
      "Calculating Frechet distance for subject: 438...\n",
      "Calculating Frechet distance for subject: 439...\n",
      "Calculating Frechet distance for subject: 440...\n",
      "Calculating Frechet distance for subject: 442...\n",
      "Calculating Frechet distance for subject: 443...\n",
      "Calculating Frechet distance for subject: 444...\n",
      "Calculating Frechet distance for subject: 445...\n",
      "Calculating Frechet distance for subject: 446...\n",
      "Calculating Frechet distance for subject: 447...\n",
      "Calculating Frechet distance for subject: 448...\n",
      "Calculating Frechet distance for subject: 449...\n",
      "Calculating Frechet distance for subject: 450...\n",
      "Calculating Frechet distance for subject: 451...\n"
     ]
    }
   ],
   "source": [
    "from dsp_py_module import WayFindingAnalyzer\n",
    "\n",
    "analyzer = WayFindingAnalyzer(\n",
    "    trial_info,\n",
    "    \"ProcessedData/time.csv\",\n",
    "    \"ProcessedData/processed_trajectory.csv\",\n",
    "    \"ProcessedData/discrete_trajectory.csv\",\n",
    "    shortcut_map=shortcut_map,\n",
    "    learning_map=learning_map,\n",
    "    strategy=strategy,\n",
    ")\n",
    "\n",
    "frechet = analyzer.calculate_frechet()\n",
    "# analyzer.plot_all_discrete_trajectories_on_map(save_only=True)"
   ],
   "metadata": {
    "collapsed": false,
    "ExecuteTime": {
     "start_time": "2023-05-26T14:28:38.980952Z",
     "end_time": "2023-05-26T14:28:50.764639Z"
    }
   }
  },
  {
   "cell_type": "code",
   "execution_count": 6,
   "outputs": [
    {
     "data": {
      "text/plain": "     SubjectName TrialOrder TrialNumber  DiscreteDistance  ContinuousDistance   \n0            401          1          19             11.78                9.05  \\\n1            401          2          22              9.87                8.43   \n2            401          3          20             14.14               11.98   \n3            401          4          14              6.51                4.89   \n4            401          5           7             18.14               15.99   \n...          ...        ...         ...               ...                 ...   \n1147         451         20          16             21.75               17.38   \n1148         451         21          12              7.48                7.33   \n1149         451         22           8              7.84                6.66   \n1150         451         23          17             34.89               30.09   \n1151         451         24           2             13.00               11.66   \n\n     FrechetLearn  FrechetLearnReversed  FrechetShortcut FrechetReversed   \n0               0                  4.48             3.65             NaN  \\\n1            2.33                  4.00             2.88             NaN   \n2            2.11                  2.98             5.00             NaN   \n3            2.63                  4.09             0.84             NaN   \n4            2.88                  2.65             2.65             NaN   \n...           ...                   ...              ...             ...   \n1147         3.87                  3.18             3.87             NaN   \n1148          5.9                  1.23             1.98             NaN   \n1149         6.04                  0.00             2.11             NaN   \n1150         4.34                  4.00             4.00             NaN   \n1151         1.91                  4.73             2.75             NaN   \n\n      FrechetTopo  LearnDistance  ReversedLearnDistance  ShortcutDistance   \n0            3.65          11.78                  16.35              7.12  \\\n1            4.20          18.12                  10.70              7.42   \n2            2.98          18.80                  10.03              6.74   \n3            1.91          16.37                  12.46              4.82   \n4            2.88          14.87                  13.96              8.46   \n...           ...            ...                    ...               ...   \n1147         3.87          10.47                  17.66              4.97   \n1148         2.65          18.90                   9.23              5.13   \n1149         2.11          21.00                   7.83              5.62   \n1150         4.30          15.18                  13.65              8.51   \n1151         3.24          11.02                  17.81              5.88   \n\n      TopoDistance Failure  \n0             7.12   False  \n1             9.26   False  \n2             8.18   False  \n3             4.96   False  \n4            13.12   False  \n...            ...     ...  \n1147          4.97   False  \n1148          6.97   False  \n1149          7.84   False  \n1150         12.20    True  \n1151          5.88   False  \n\n[1152 rows x 15 columns]",
      "text/html": "<div>\n<style scoped>\n    .dataframe tbody tr th:only-of-type {\n        vertical-align: middle;\n    }\n\n    .dataframe tbody tr th {\n        vertical-align: top;\n    }\n\n    .dataframe thead th {\n        text-align: right;\n    }\n</style>\n<table border=\"1\" class=\"dataframe\">\n  <thead>\n    <tr style=\"text-align: right;\">\n      <th></th>\n      <th>SubjectName</th>\n      <th>TrialOrder</th>\n      <th>TrialNumber</th>\n      <th>DiscreteDistance</th>\n      <th>ContinuousDistance</th>\n      <th>FrechetLearn</th>\n      <th>FrechetLearnReversed</th>\n      <th>FrechetShortcut</th>\n      <th>FrechetReversed</th>\n      <th>FrechetTopo</th>\n      <th>LearnDistance</th>\n      <th>ReversedLearnDistance</th>\n      <th>ShortcutDistance</th>\n      <th>TopoDistance</th>\n      <th>Failure</th>\n    </tr>\n  </thead>\n  <tbody>\n    <tr>\n      <th>0</th>\n      <td>401</td>\n      <td>1</td>\n      <td>19</td>\n      <td>11.78</td>\n      <td>9.05</td>\n      <td>0</td>\n      <td>4.48</td>\n      <td>3.65</td>\n      <td>NaN</td>\n      <td>3.65</td>\n      <td>11.78</td>\n      <td>16.35</td>\n      <td>7.12</td>\n      <td>7.12</td>\n      <td>False</td>\n    </tr>\n    <tr>\n      <th>1</th>\n      <td>401</td>\n      <td>2</td>\n      <td>22</td>\n      <td>9.87</td>\n      <td>8.43</td>\n      <td>2.33</td>\n      <td>4.00</td>\n      <td>2.88</td>\n      <td>NaN</td>\n      <td>4.20</td>\n      <td>18.12</td>\n      <td>10.70</td>\n      <td>7.42</td>\n      <td>9.26</td>\n      <td>False</td>\n    </tr>\n    <tr>\n      <th>2</th>\n      <td>401</td>\n      <td>3</td>\n      <td>20</td>\n      <td>14.14</td>\n      <td>11.98</td>\n      <td>2.11</td>\n      <td>2.98</td>\n      <td>5.00</td>\n      <td>NaN</td>\n      <td>2.98</td>\n      <td>18.80</td>\n      <td>10.03</td>\n      <td>6.74</td>\n      <td>8.18</td>\n      <td>False</td>\n    </tr>\n    <tr>\n      <th>3</th>\n      <td>401</td>\n      <td>4</td>\n      <td>14</td>\n      <td>6.51</td>\n      <td>4.89</td>\n      <td>2.63</td>\n      <td>4.09</td>\n      <td>0.84</td>\n      <td>NaN</td>\n      <td>1.91</td>\n      <td>16.37</td>\n      <td>12.46</td>\n      <td>4.82</td>\n      <td>4.96</td>\n      <td>False</td>\n    </tr>\n    <tr>\n      <th>4</th>\n      <td>401</td>\n      <td>5</td>\n      <td>7</td>\n      <td>18.14</td>\n      <td>15.99</td>\n      <td>2.88</td>\n      <td>2.65</td>\n      <td>2.65</td>\n      <td>NaN</td>\n      <td>2.88</td>\n      <td>14.87</td>\n      <td>13.96</td>\n      <td>8.46</td>\n      <td>13.12</td>\n      <td>False</td>\n    </tr>\n    <tr>\n      <th>...</th>\n      <td>...</td>\n      <td>...</td>\n      <td>...</td>\n      <td>...</td>\n      <td>...</td>\n      <td>...</td>\n      <td>...</td>\n      <td>...</td>\n      <td>...</td>\n      <td>...</td>\n      <td>...</td>\n      <td>...</td>\n      <td>...</td>\n      <td>...</td>\n      <td>...</td>\n    </tr>\n    <tr>\n      <th>1147</th>\n      <td>451</td>\n      <td>20</td>\n      <td>16</td>\n      <td>21.75</td>\n      <td>17.38</td>\n      <td>3.87</td>\n      <td>3.18</td>\n      <td>3.87</td>\n      <td>NaN</td>\n      <td>3.87</td>\n      <td>10.47</td>\n      <td>17.66</td>\n      <td>4.97</td>\n      <td>4.97</td>\n      <td>False</td>\n    </tr>\n    <tr>\n      <th>1148</th>\n      <td>451</td>\n      <td>21</td>\n      <td>12</td>\n      <td>7.48</td>\n      <td>7.33</td>\n      <td>5.9</td>\n      <td>1.23</td>\n      <td>1.98</td>\n      <td>NaN</td>\n      <td>2.65</td>\n      <td>18.90</td>\n      <td>9.23</td>\n      <td>5.13</td>\n      <td>6.97</td>\n      <td>False</td>\n    </tr>\n    <tr>\n      <th>1149</th>\n      <td>451</td>\n      <td>22</td>\n      <td>8</td>\n      <td>7.84</td>\n      <td>6.66</td>\n      <td>6.04</td>\n      <td>0.00</td>\n      <td>2.11</td>\n      <td>NaN</td>\n      <td>2.11</td>\n      <td>21.00</td>\n      <td>7.83</td>\n      <td>5.62</td>\n      <td>7.84</td>\n      <td>False</td>\n    </tr>\n    <tr>\n      <th>1150</th>\n      <td>451</td>\n      <td>23</td>\n      <td>17</td>\n      <td>34.89</td>\n      <td>30.09</td>\n      <td>4.34</td>\n      <td>4.00</td>\n      <td>4.00</td>\n      <td>NaN</td>\n      <td>4.30</td>\n      <td>15.18</td>\n      <td>13.65</td>\n      <td>8.51</td>\n      <td>12.20</td>\n      <td>True</td>\n    </tr>\n    <tr>\n      <th>1151</th>\n      <td>451</td>\n      <td>24</td>\n      <td>2</td>\n      <td>13.00</td>\n      <td>11.66</td>\n      <td>1.91</td>\n      <td>4.73</td>\n      <td>2.75</td>\n      <td>NaN</td>\n      <td>3.24</td>\n      <td>11.02</td>\n      <td>17.81</td>\n      <td>5.88</td>\n      <td>5.88</td>\n      <td>False</td>\n    </tr>\n  </tbody>\n</table>\n<p>1152 rows × 15 columns</p>\n</div>"
     },
     "execution_count": 6,
     "metadata": {},
     "output_type": "execute_result"
    }
   ],
   "source": [
    "frechet"
   ],
   "metadata": {
    "collapsed": false,
    "ExecuteTime": {
     "start_time": "2023-05-26T14:28:52.984191Z",
     "end_time": "2023-05-26T14:28:53.001206Z"
    }
   }
  },
  {
   "cell_type": "code",
   "execution_count": 7,
   "outputs": [
    {
     "data": {
      "text/plain": "    SubjectName  num_of_shortcuts  num_of_failures  solution_index\n0           401                 9                0        0.375000\n1           402                13                3        0.619048\n2           403                18                1        0.782609\n3           404                14                0        0.583333\n4           405                21                0        0.875000\n5           406                17                0        0.708333\n6           407                19                0        0.791667\n7           408                20                0        0.833333\n8           409                11                3        0.523810\n9           410                11                2        0.500000\n10          411                12                0        0.500000\n11          412                15                0        0.625000\n12          413                16                0        0.666667\n13          414                15                2        0.681818\n14          415                14                1        0.608696\n15          416                20                0        0.833333\n16          417                10                1        0.434783\n17          418                 7                2        0.318182\n18          419                21                0        0.875000\n19          420                 6                0        0.250000\n20          421                19                0        0.791667\n21          422                20                0        0.833333\n22          423                18                1        0.782609\n23          424                20                0        0.833333\n24          425                10                2        0.454545\n25          426                 9                1        0.391304\n26          428                21                0        0.875000\n27          429                 5                1        0.217391\n28          430                15                1        0.652174\n29          431                 5                2        0.227273\n30          432                 9                2        0.409091\n31          433                15                0        0.625000\n32          435                 7                1        0.304348\n33          436                 8                7        0.470588\n34          437                11                0        0.458333\n35          438                 5                5        0.263158\n36          439                18                0        0.750000\n37          440                14                0        0.583333\n38          442                 9                4        0.450000\n39          443                 6                1        0.260870\n40          444                 6                2        0.272727\n41          445                 9                4        0.450000\n42          446                17                2        0.772727\n43          447                 8                5        0.421053\n44          448                 3                0        0.125000\n45          449                23                0        0.958333\n46          450                 7                3        0.333333\n47          451                 2                4        0.100000",
      "text/html": "<div>\n<style scoped>\n    .dataframe tbody tr th:only-of-type {\n        vertical-align: middle;\n    }\n\n    .dataframe tbody tr th {\n        vertical-align: top;\n    }\n\n    .dataframe thead th {\n        text-align: right;\n    }\n</style>\n<table border=\"1\" class=\"dataframe\">\n  <thead>\n    <tr style=\"text-align: right;\">\n      <th></th>\n      <th>SubjectName</th>\n      <th>num_of_shortcuts</th>\n      <th>num_of_failures</th>\n      <th>solution_index</th>\n    </tr>\n  </thead>\n  <tbody>\n    <tr>\n      <th>0</th>\n      <td>401</td>\n      <td>9</td>\n      <td>0</td>\n      <td>0.375000</td>\n    </tr>\n    <tr>\n      <th>1</th>\n      <td>402</td>\n      <td>13</td>\n      <td>3</td>\n      <td>0.619048</td>\n    </tr>\n    <tr>\n      <th>2</th>\n      <td>403</td>\n      <td>18</td>\n      <td>1</td>\n      <td>0.782609</td>\n    </tr>\n    <tr>\n      <th>3</th>\n      <td>404</td>\n      <td>14</td>\n      <td>0</td>\n      <td>0.583333</td>\n    </tr>\n    <tr>\n      <th>4</th>\n      <td>405</td>\n      <td>21</td>\n      <td>0</td>\n      <td>0.875000</td>\n    </tr>\n    <tr>\n      <th>5</th>\n      <td>406</td>\n      <td>17</td>\n      <td>0</td>\n      <td>0.708333</td>\n    </tr>\n    <tr>\n      <th>6</th>\n      <td>407</td>\n      <td>19</td>\n      <td>0</td>\n      <td>0.791667</td>\n    </tr>\n    <tr>\n      <th>7</th>\n      <td>408</td>\n      <td>20</td>\n      <td>0</td>\n      <td>0.833333</td>\n    </tr>\n    <tr>\n      <th>8</th>\n      <td>409</td>\n      <td>11</td>\n      <td>3</td>\n      <td>0.523810</td>\n    </tr>\n    <tr>\n      <th>9</th>\n      <td>410</td>\n      <td>11</td>\n      <td>2</td>\n      <td>0.500000</td>\n    </tr>\n    <tr>\n      <th>10</th>\n      <td>411</td>\n      <td>12</td>\n      <td>0</td>\n      <td>0.500000</td>\n    </tr>\n    <tr>\n      <th>11</th>\n      <td>412</td>\n      <td>15</td>\n      <td>0</td>\n      <td>0.625000</td>\n    </tr>\n    <tr>\n      <th>12</th>\n      <td>413</td>\n      <td>16</td>\n      <td>0</td>\n      <td>0.666667</td>\n    </tr>\n    <tr>\n      <th>13</th>\n      <td>414</td>\n      <td>15</td>\n      <td>2</td>\n      <td>0.681818</td>\n    </tr>\n    <tr>\n      <th>14</th>\n      <td>415</td>\n      <td>14</td>\n      <td>1</td>\n      <td>0.608696</td>\n    </tr>\n    <tr>\n      <th>15</th>\n      <td>416</td>\n      <td>20</td>\n      <td>0</td>\n      <td>0.833333</td>\n    </tr>\n    <tr>\n      <th>16</th>\n      <td>417</td>\n      <td>10</td>\n      <td>1</td>\n      <td>0.434783</td>\n    </tr>\n    <tr>\n      <th>17</th>\n      <td>418</td>\n      <td>7</td>\n      <td>2</td>\n      <td>0.318182</td>\n    </tr>\n    <tr>\n      <th>18</th>\n      <td>419</td>\n      <td>21</td>\n      <td>0</td>\n      <td>0.875000</td>\n    </tr>\n    <tr>\n      <th>19</th>\n      <td>420</td>\n      <td>6</td>\n      <td>0</td>\n      <td>0.250000</td>\n    </tr>\n    <tr>\n      <th>20</th>\n      <td>421</td>\n      <td>19</td>\n      <td>0</td>\n      <td>0.791667</td>\n    </tr>\n    <tr>\n      <th>21</th>\n      <td>422</td>\n      <td>20</td>\n      <td>0</td>\n      <td>0.833333</td>\n    </tr>\n    <tr>\n      <th>22</th>\n      <td>423</td>\n      <td>18</td>\n      <td>1</td>\n      <td>0.782609</td>\n    </tr>\n    <tr>\n      <th>23</th>\n      <td>424</td>\n      <td>20</td>\n      <td>0</td>\n      <td>0.833333</td>\n    </tr>\n    <tr>\n      <th>24</th>\n      <td>425</td>\n      <td>10</td>\n      <td>2</td>\n      <td>0.454545</td>\n    </tr>\n    <tr>\n      <th>25</th>\n      <td>426</td>\n      <td>9</td>\n      <td>1</td>\n      <td>0.391304</td>\n    </tr>\n    <tr>\n      <th>26</th>\n      <td>428</td>\n      <td>21</td>\n      <td>0</td>\n      <td>0.875000</td>\n    </tr>\n    <tr>\n      <th>27</th>\n      <td>429</td>\n      <td>5</td>\n      <td>1</td>\n      <td>0.217391</td>\n    </tr>\n    <tr>\n      <th>28</th>\n      <td>430</td>\n      <td>15</td>\n      <td>1</td>\n      <td>0.652174</td>\n    </tr>\n    <tr>\n      <th>29</th>\n      <td>431</td>\n      <td>5</td>\n      <td>2</td>\n      <td>0.227273</td>\n    </tr>\n    <tr>\n      <th>30</th>\n      <td>432</td>\n      <td>9</td>\n      <td>2</td>\n      <td>0.409091</td>\n    </tr>\n    <tr>\n      <th>31</th>\n      <td>433</td>\n      <td>15</td>\n      <td>0</td>\n      <td>0.625000</td>\n    </tr>\n    <tr>\n      <th>32</th>\n      <td>435</td>\n      <td>7</td>\n      <td>1</td>\n      <td>0.304348</td>\n    </tr>\n    <tr>\n      <th>33</th>\n      <td>436</td>\n      <td>8</td>\n      <td>7</td>\n      <td>0.470588</td>\n    </tr>\n    <tr>\n      <th>34</th>\n      <td>437</td>\n      <td>11</td>\n      <td>0</td>\n      <td>0.458333</td>\n    </tr>\n    <tr>\n      <th>35</th>\n      <td>438</td>\n      <td>5</td>\n      <td>5</td>\n      <td>0.263158</td>\n    </tr>\n    <tr>\n      <th>36</th>\n      <td>439</td>\n      <td>18</td>\n      <td>0</td>\n      <td>0.750000</td>\n    </tr>\n    <tr>\n      <th>37</th>\n      <td>440</td>\n      <td>14</td>\n      <td>0</td>\n      <td>0.583333</td>\n    </tr>\n    <tr>\n      <th>38</th>\n      <td>442</td>\n      <td>9</td>\n      <td>4</td>\n      <td>0.450000</td>\n    </tr>\n    <tr>\n      <th>39</th>\n      <td>443</td>\n      <td>6</td>\n      <td>1</td>\n      <td>0.260870</td>\n    </tr>\n    <tr>\n      <th>40</th>\n      <td>444</td>\n      <td>6</td>\n      <td>2</td>\n      <td>0.272727</td>\n    </tr>\n    <tr>\n      <th>41</th>\n      <td>445</td>\n      <td>9</td>\n      <td>4</td>\n      <td>0.450000</td>\n    </tr>\n    <tr>\n      <th>42</th>\n      <td>446</td>\n      <td>17</td>\n      <td>2</td>\n      <td>0.772727</td>\n    </tr>\n    <tr>\n      <th>43</th>\n      <td>447</td>\n      <td>8</td>\n      <td>5</td>\n      <td>0.421053</td>\n    </tr>\n    <tr>\n      <th>44</th>\n      <td>448</td>\n      <td>3</td>\n      <td>0</td>\n      <td>0.125000</td>\n    </tr>\n    <tr>\n      <th>45</th>\n      <td>449</td>\n      <td>23</td>\n      <td>0</td>\n      <td>0.958333</td>\n    </tr>\n    <tr>\n      <th>46</th>\n      <td>450</td>\n      <td>7</td>\n      <td>3</td>\n      <td>0.333333</td>\n    </tr>\n    <tr>\n      <th>47</th>\n      <td>451</td>\n      <td>2</td>\n      <td>4</td>\n      <td>0.100000</td>\n    </tr>\n  </tbody>\n</table>\n</div>"
     },
     "execution_count": 7,
     "metadata": {},
     "output_type": "execute_result"
    }
   ],
   "source": [
    "def is_shortest(row):\n",
    "    shortcuts = [row['FrechetShortcut'], row['FrechetLearnReversed'], row['FrechetLearn'], row['FrechetTopo']]\n",
    "    check = row['FrechetShortcut'] == min(shortcuts) and row['Failure'] == 0\n",
    "    return check\n",
    "\n",
    "\n",
    "def process_each_subject(row):\n",
    "    return row.apply(is_shortest, axis=1).sum()\n",
    "\n",
    "\n",
    "# use pandas' apply method to apply the is_shortest function to each row of the DataFrame\n",
    "# then use pandas' sum method to count the number of rows where failure == 0 and shortcut is the minimum value\n",
    "# num_of_shortcuts = frechet.apply(lambda row: row.apply(is_shortest).sum(), axis=1)\n",
    "solution_index = frechet.groupby(\"SubjectName\").apply(lambda row: process_each_subject(row))\n",
    "\n",
    "# change the row indexing to a column\n",
    "solution_index = solution_index.reset_index()\n",
    "# change the only column name to 'solution_index'\n",
    "solution_index = solution_index.rename(columns={0: 'num_of_shortcuts'})\n",
    "\n",
    "solution_index['num_of_failures'] = \\\n",
    "frechet.groupby(\"SubjectName\").apply(lambda row: row['Failure'].sum()).reset_index()[0]\n",
    "\n",
    "solution_index['solution_index'] = solution_index['num_of_shortcuts'] / (24 - solution_index['num_of_failures'])\n",
    "\n",
    "solution_index"
   ],
   "metadata": {
    "collapsed": false,
    "ExecuteTime": {
     "start_time": "2023-05-26T14:28:57.740017Z",
     "end_time": "2023-05-26T14:28:57.796068Z"
    }
   }
  },
  {
   "cell_type": "code",
   "execution_count": null,
   "outputs": [],
   "source": [],
   "metadata": {
    "collapsed": false
   }
  },
  {
   "cell_type": "markdown",
   "source": [
    "# Check & Plot Trajectories"
   ],
   "metadata": {
    "id": "xCsaC1D-tQCb"
   }
  },
  {
   "cell_type": "code",
   "source": [
    "traj_post = pd.read_csv(\"ProcessedData/processed_trajectory.csv\")\n",
    "strategy = pd.read_csv(\"strategy.csv\")\n",
    "wftime = pd.read_csv(\"ProcessedData/time.csv\")\n",
    "wftrajc = pd.read_csv(\"ProcessedData/analyzed_trajectory.csv\")\n",
    "performance = wftrajc.merge(wftime, how='left', on=['ParticipantID', 'TrialNumber'])\n",
    "\n",
    "\n",
    "def get_sample(strategy, performance, trial, target):\n",
    "    sample = strategy[strategy['Trial' + str(trial)] == target].Subject.to_list()\n",
    "    tmp = performance[(performance.Status == 'Success') \\\n",
    "                      & (performance.TrialNumber == trial) \\\n",
    "                      & (performance.ParticipantID.isin(sample))][\n",
    "        ['ParticipantID', 'LevelDistanceTraveled', 'grid_distance', 'human_distance']]\n",
    "    return tmp\n"
   ],
   "metadata": {
    "id": "_g67zKq-EZht"
   },
   "execution_count": null,
   "outputs": []
  },
  {
   "cell_type": "code",
   "source": [
    "sample_results = get_sample(strategy, performance, 8, 'learned').sort_values(\n",
    "    by=['LevelDistanceTraveled', 'grid_distance', 'ParticipantID'])\n",
    "sample_results"
   ],
   "metadata": {
    "colab": {
     "base_uri": "https://localhost:8080/",
     "height": 81
    },
    "id": "MfD-Wd4HFq-M",
    "outputId": "ffd3d946-6c01-4a28-fff5-bea77bb9e7a9"
   },
   "execution_count": null,
   "outputs": [
    {
     "output_type": "execute_result",
     "data": {
      "text/plain": [
       "     ParticipantID  LevelDistanceTraveled  grid_distance  human_distance\n",
       "799            443                  15.48           18.4           15.53"
      ],
      "text/html": [
       "\n",
       "  <div id=\"df-ffc79942-0e73-43c0-a3b6-744d8bfff562\">\n",
       "    <div class=\"colab-df-container\">\n",
       "      <div>\n",
       "<style scoped>\n",
       "    .dataframe tbody tr th:only-of-type {\n",
       "        vertical-align: middle;\n",
       "    }\n",
       "\n",
       "    .dataframe tbody tr th {\n",
       "        vertical-align: top;\n",
       "    }\n",
       "\n",
       "    .dataframe thead th {\n",
       "        text-align: right;\n",
       "    }\n",
       "</style>\n",
       "<table border=\"1\" class=\"dataframe\">\n",
       "  <thead>\n",
       "    <tr style=\"text-align: right;\">\n",
       "      <th></th>\n",
       "      <th>ParticipantID</th>\n",
       "      <th>LevelDistanceTraveled</th>\n",
       "      <th>grid_distance</th>\n",
       "      <th>human_distance</th>\n",
       "    </tr>\n",
       "  </thead>\n",
       "  <tbody>\n",
       "    <tr>\n",
       "      <th>799</th>\n",
       "      <td>443</td>\n",
       "      <td>15.48</td>\n",
       "      <td>18.4</td>\n",
       "      <td>15.53</td>\n",
       "    </tr>\n",
       "  </tbody>\n",
       "</table>\n",
       "</div>\n",
       "      <button class=\"colab-df-convert\" onclick=\"convertToInteractive('df-ffc79942-0e73-43c0-a3b6-744d8bfff562')\"\n",
       "              title=\"Convert this dataframe to an interactive table.\"\n",
       "              style=\"display:none;\">\n",
       "        \n",
       "  <svg xmlns=\"http://www.w3.org/2000/svg\" height=\"24px\"viewBox=\"0 0 24 24\"\n",
       "       width=\"24px\">\n",
       "    <path d=\"M0 0h24v24H0V0z\" fill=\"none\"/>\n",
       "    <path d=\"M18.56 5.44l.94 2.06.94-2.06 2.06-.94-2.06-.94-.94-2.06-.94 2.06-2.06.94zm-11 1L8.5 8.5l.94-2.06 2.06-.94-2.06-.94L8.5 2.5l-.94 2.06-2.06.94zm10 10l.94 2.06.94-2.06 2.06-.94-2.06-.94-.94-2.06-.94 2.06-2.06.94z\"/><path d=\"M17.41 7.96l-1.37-1.37c-.4-.4-.92-.59-1.43-.59-.52 0-1.04.2-1.43.59L10.3 9.45l-7.72 7.72c-.78.78-.78 2.05 0 2.83L4 21.41c.39.39.9.59 1.41.59.51 0 1.02-.2 1.41-.59l7.78-7.78 2.81-2.81c.8-.78.8-2.07 0-2.86zM5.41 20L4 18.59l7.72-7.72 1.47 1.35L5.41 20z\"/>\n",
       "  </svg>\n",
       "      </button>\n",
       "      \n",
       "  <style>\n",
       "    .colab-df-container {\n",
       "      display:flex;\n",
       "      flex-wrap:wrap;\n",
       "      gap: 12px;\n",
       "    }\n",
       "\n",
       "    .colab-df-convert {\n",
       "      background-color: #E8F0FE;\n",
       "      border: none;\n",
       "      border-radius: 50%;\n",
       "      cursor: pointer;\n",
       "      display: none;\n",
       "      fill: #1967D2;\n",
       "      height: 32px;\n",
       "      padding: 0 0 0 0;\n",
       "      width: 32px;\n",
       "    }\n",
       "\n",
       "    .colab-df-convert:hover {\n",
       "      background-color: #E2EBFA;\n",
       "      box-shadow: 0px 1px 2px rgba(60, 64, 67, 0.3), 0px 1px 3px 1px rgba(60, 64, 67, 0.15);\n",
       "      fill: #174EA6;\n",
       "    }\n",
       "\n",
       "    [theme=dark] .colab-df-convert {\n",
       "      background-color: #3B4455;\n",
       "      fill: #D2E3FC;\n",
       "    }\n",
       "\n",
       "    [theme=dark] .colab-df-convert:hover {\n",
       "      background-color: #434B5C;\n",
       "      box-shadow: 0px 1px 3px 1px rgba(0, 0, 0, 0.15);\n",
       "      filter: drop-shadow(0px 1px 2px rgba(0, 0, 0, 0.3));\n",
       "      fill: #FFFFFF;\n",
       "    }\n",
       "  </style>\n",
       "\n",
       "      <script>\n",
       "        const buttonEl =\n",
       "          document.querySelector('#df-ffc79942-0e73-43c0-a3b6-744d8bfff562 button.colab-df-convert');\n",
       "        buttonEl.style.display =\n",
       "          google.colab.kernel.accessAllowed ? 'block' : 'none';\n",
       "\n",
       "        async function convertToInteractive(key) {\n",
       "          const element = document.querySelector('#df-ffc79942-0e73-43c0-a3b6-744d8bfff562');\n",
       "          const dataTable =\n",
       "            await google.colab.kernel.invokeFunction('convertToInteractive',\n",
       "                                                     [key], {});\n",
       "          if (!dataTable) return;\n",
       "\n",
       "          const docLinkHtml = 'Like what you see? Visit the ' +\n",
       "            '<a target=\"_blank\" href=https://colab.research.google.com/notebooks/data_table.ipynb>data table notebook</a>'\n",
       "            + ' to learn more about interactive tables.';\n",
       "          element.innerHTML = '';\n",
       "          dataTable['output_type'] = 'display_data';\n",
       "          await google.colab.output.renderOutput(dataTable, element);\n",
       "          const docLink = document.createElement('div');\n",
       "          docLink.innerHTML = docLinkHtml;\n",
       "          element.appendChild(docLink);\n",
       "        }\n",
       "      </script>\n",
       "    </div>\n",
       "  </div>\n",
       "  "
      ]
     },
     "metadata": {},
     "execution_count": 56
    }
   ]
  },
  {
   "cell_type": "code",
   "source": [
    "traj_post[(traj_post.TrialNum == 24) & (traj_post.SubjectNum == 438)]"
   ],
   "metadata": {
    "colab": {
     "base_uri": "https://localhost:8080/",
     "height": 488
    },
    "id": "LR3S0UZw2J9z",
    "outputId": "3d1262df-3c28-452e-d967-52b4b5e91af8"
   },
   "execution_count": null,
   "outputs": [
    {
     "output_type": "execute_result",
     "data": {
      "text/plain": [
       "       SubjectNum  TrialNum   Time         X         Z       X_d       Z_d\n",
       "11274         438        24  341.0  1.081632 -3.221322  0.799805 -3.099609\n",
       "11275         438        24  341.0  1.230271 -3.128129  1.599609 -3.099609\n",
       "11276         438        24  342.0  1.536593 -2.922919  1.599609 -3.099609\n",
       "11277         438        24  343.0  1.923062 -2.516510  1.599609 -3.099609\n",
       "11278         438        24  343.0  1.979146 -2.376094  1.599609 -2.000000\n",
       "11279         438        24  343.0  2.007201 -2.237605  2.500000 -2.000000\n",
       "11280         438        24  344.0  1.955934 -1.799817  1.599609 -2.000000\n",
       "11281         438        24  344.0  2.041816 -1.523038  2.500000 -2.000000\n",
       "11282         438        24  344.0  2.085891 -1.389362  2.500000 -1.000000\n",
       "11283         438        24  345.0  2.124309 -1.255756  2.500000 -1.000000\n",
       "11284         438        24  346.0  2.553836 -0.698936  2.500000 -1.000000\n",
       "11285         438        24  346.0  2.672039 -0.405996  2.500000  0.000000\n",
       "11286         438        24  347.0  2.800363 -0.091956  2.500000  0.000000\n",
       "11287         438        24  347.0  2.500000  0.899902  2.500000  0.899902"
      ],
      "text/html": [
       "\n",
       "  <div id=\"df-cbc066a4-9c30-4e5b-825b-ddd3e071fed1\">\n",
       "    <div class=\"colab-df-container\">\n",
       "      <div>\n",
       "<style scoped>\n",
       "    .dataframe tbody tr th:only-of-type {\n",
       "        vertical-align: middle;\n",
       "    }\n",
       "\n",
       "    .dataframe tbody tr th {\n",
       "        vertical-align: top;\n",
       "    }\n",
       "\n",
       "    .dataframe thead th {\n",
       "        text-align: right;\n",
       "    }\n",
       "</style>\n",
       "<table border=\"1\" class=\"dataframe\">\n",
       "  <thead>\n",
       "    <tr style=\"text-align: right;\">\n",
       "      <th></th>\n",
       "      <th>SubjectNum</th>\n",
       "      <th>TrialNum</th>\n",
       "      <th>Time</th>\n",
       "      <th>X</th>\n",
       "      <th>Z</th>\n",
       "      <th>X_d</th>\n",
       "      <th>Z_d</th>\n",
       "    </tr>\n",
       "  </thead>\n",
       "  <tbody>\n",
       "    <tr>\n",
       "      <th>11274</th>\n",
       "      <td>438</td>\n",
       "      <td>24</td>\n",
       "      <td>341.0</td>\n",
       "      <td>1.081632</td>\n",
       "      <td>-3.221322</td>\n",
       "      <td>0.799805</td>\n",
       "      <td>-3.099609</td>\n",
       "    </tr>\n",
       "    <tr>\n",
       "      <th>11275</th>\n",
       "      <td>438</td>\n",
       "      <td>24</td>\n",
       "      <td>341.0</td>\n",
       "      <td>1.230271</td>\n",
       "      <td>-3.128129</td>\n",
       "      <td>1.599609</td>\n",
       "      <td>-3.099609</td>\n",
       "    </tr>\n",
       "    <tr>\n",
       "      <th>11276</th>\n",
       "      <td>438</td>\n",
       "      <td>24</td>\n",
       "      <td>342.0</td>\n",
       "      <td>1.536593</td>\n",
       "      <td>-2.922919</td>\n",
       "      <td>1.599609</td>\n",
       "      <td>-3.099609</td>\n",
       "    </tr>\n",
       "    <tr>\n",
       "      <th>11277</th>\n",
       "      <td>438</td>\n",
       "      <td>24</td>\n",
       "      <td>343.0</td>\n",
       "      <td>1.923062</td>\n",
       "      <td>-2.516510</td>\n",
       "      <td>1.599609</td>\n",
       "      <td>-3.099609</td>\n",
       "    </tr>\n",
       "    <tr>\n",
       "      <th>11278</th>\n",
       "      <td>438</td>\n",
       "      <td>24</td>\n",
       "      <td>343.0</td>\n",
       "      <td>1.979146</td>\n",
       "      <td>-2.376094</td>\n",
       "      <td>1.599609</td>\n",
       "      <td>-2.000000</td>\n",
       "    </tr>\n",
       "    <tr>\n",
       "      <th>11279</th>\n",
       "      <td>438</td>\n",
       "      <td>24</td>\n",
       "      <td>343.0</td>\n",
       "      <td>2.007201</td>\n",
       "      <td>-2.237605</td>\n",
       "      <td>2.500000</td>\n",
       "      <td>-2.000000</td>\n",
       "    </tr>\n",
       "    <tr>\n",
       "      <th>11280</th>\n",
       "      <td>438</td>\n",
       "      <td>24</td>\n",
       "      <td>344.0</td>\n",
       "      <td>1.955934</td>\n",
       "      <td>-1.799817</td>\n",
       "      <td>1.599609</td>\n",
       "      <td>-2.000000</td>\n",
       "    </tr>\n",
       "    <tr>\n",
       "      <th>11281</th>\n",
       "      <td>438</td>\n",
       "      <td>24</td>\n",
       "      <td>344.0</td>\n",
       "      <td>2.041816</td>\n",
       "      <td>-1.523038</td>\n",
       "      <td>2.500000</td>\n",
       "      <td>-2.000000</td>\n",
       "    </tr>\n",
       "    <tr>\n",
       "      <th>11282</th>\n",
       "      <td>438</td>\n",
       "      <td>24</td>\n",
       "      <td>344.0</td>\n",
       "      <td>2.085891</td>\n",
       "      <td>-1.389362</td>\n",
       "      <td>2.500000</td>\n",
       "      <td>-1.000000</td>\n",
       "    </tr>\n",
       "    <tr>\n",
       "      <th>11283</th>\n",
       "      <td>438</td>\n",
       "      <td>24</td>\n",
       "      <td>345.0</td>\n",
       "      <td>2.124309</td>\n",
       "      <td>-1.255756</td>\n",
       "      <td>2.500000</td>\n",
       "      <td>-1.000000</td>\n",
       "    </tr>\n",
       "    <tr>\n",
       "      <th>11284</th>\n",
       "      <td>438</td>\n",
       "      <td>24</td>\n",
       "      <td>346.0</td>\n",
       "      <td>2.553836</td>\n",
       "      <td>-0.698936</td>\n",
       "      <td>2.500000</td>\n",
       "      <td>-1.000000</td>\n",
       "    </tr>\n",
       "    <tr>\n",
       "      <th>11285</th>\n",
       "      <td>438</td>\n",
       "      <td>24</td>\n",
       "      <td>346.0</td>\n",
       "      <td>2.672039</td>\n",
       "      <td>-0.405996</td>\n",
       "      <td>2.500000</td>\n",
       "      <td>0.000000</td>\n",
       "    </tr>\n",
       "    <tr>\n",
       "      <th>11286</th>\n",
       "      <td>438</td>\n",
       "      <td>24</td>\n",
       "      <td>347.0</td>\n",
       "      <td>2.800363</td>\n",
       "      <td>-0.091956</td>\n",
       "      <td>2.500000</td>\n",
       "      <td>0.000000</td>\n",
       "    </tr>\n",
       "    <tr>\n",
       "      <th>11287</th>\n",
       "      <td>438</td>\n",
       "      <td>24</td>\n",
       "      <td>347.0</td>\n",
       "      <td>2.500000</td>\n",
       "      <td>0.899902</td>\n",
       "      <td>2.500000</td>\n",
       "      <td>0.899902</td>\n",
       "    </tr>\n",
       "  </tbody>\n",
       "</table>\n",
       "</div>\n",
       "      <button class=\"colab-df-convert\" onclick=\"convertToInteractive('df-cbc066a4-9c30-4e5b-825b-ddd3e071fed1')\"\n",
       "              title=\"Convert this dataframe to an interactive table.\"\n",
       "              style=\"display:none;\">\n",
       "        \n",
       "  <svg xmlns=\"http://www.w3.org/2000/svg\" height=\"24px\"viewBox=\"0 0 24 24\"\n",
       "       width=\"24px\">\n",
       "    <path d=\"M0 0h24v24H0V0z\" fill=\"none\"/>\n",
       "    <path d=\"M18.56 5.44l.94 2.06.94-2.06 2.06-.94-2.06-.94-.94-2.06-.94 2.06-2.06.94zm-11 1L8.5 8.5l.94-2.06 2.06-.94-2.06-.94L8.5 2.5l-.94 2.06-2.06.94zm10 10l.94 2.06.94-2.06 2.06-.94-2.06-.94-.94-2.06-.94 2.06-2.06.94z\"/><path d=\"M17.41 7.96l-1.37-1.37c-.4-.4-.92-.59-1.43-.59-.52 0-1.04.2-1.43.59L10.3 9.45l-7.72 7.72c-.78.78-.78 2.05 0 2.83L4 21.41c.39.39.9.59 1.41.59.51 0 1.02-.2 1.41-.59l7.78-7.78 2.81-2.81c.8-.78.8-2.07 0-2.86zM5.41 20L4 18.59l7.72-7.72 1.47 1.35L5.41 20z\"/>\n",
       "  </svg>\n",
       "      </button>\n",
       "      \n",
       "  <style>\n",
       "    .colab-df-container {\n",
       "      display:flex;\n",
       "      flex-wrap:wrap;\n",
       "      gap: 12px;\n",
       "    }\n",
       "\n",
       "    .colab-df-convert {\n",
       "      background-color: #E8F0FE;\n",
       "      border: none;\n",
       "      border-radius: 50%;\n",
       "      cursor: pointer;\n",
       "      display: none;\n",
       "      fill: #1967D2;\n",
       "      height: 32px;\n",
       "      padding: 0 0 0 0;\n",
       "      width: 32px;\n",
       "    }\n",
       "\n",
       "    .colab-df-convert:hover {\n",
       "      background-color: #E2EBFA;\n",
       "      box-shadow: 0px 1px 2px rgba(60, 64, 67, 0.3), 0px 1px 3px 1px rgba(60, 64, 67, 0.15);\n",
       "      fill: #174EA6;\n",
       "    }\n",
       "\n",
       "    [theme=dark] .colab-df-convert {\n",
       "      background-color: #3B4455;\n",
       "      fill: #D2E3FC;\n",
       "    }\n",
       "\n",
       "    [theme=dark] .colab-df-convert:hover {\n",
       "      background-color: #434B5C;\n",
       "      box-shadow: 0px 1px 3px 1px rgba(0, 0, 0, 0.15);\n",
       "      filter: drop-shadow(0px 1px 2px rgba(0, 0, 0, 0.3));\n",
       "      fill: #FFFFFF;\n",
       "    }\n",
       "  </style>\n",
       "\n",
       "      <script>\n",
       "        const buttonEl =\n",
       "          document.querySelector('#df-cbc066a4-9c30-4e5b-825b-ddd3e071fed1 button.colab-df-convert');\n",
       "        buttonEl.style.display =\n",
       "          google.colab.kernel.accessAllowed ? 'block' : 'none';\n",
       "\n",
       "        async function convertToInteractive(key) {\n",
       "          const element = document.querySelector('#df-cbc066a4-9c30-4e5b-825b-ddd3e071fed1');\n",
       "          const dataTable =\n",
       "            await google.colab.kernel.invokeFunction('convertToInteractive',\n",
       "                                                     [key], {});\n",
       "          if (!dataTable) return;\n",
       "\n",
       "          const docLinkHtml = 'Like what you see? Visit the ' +\n",
       "            '<a target=\"_blank\" href=https://colab.research.google.com/notebooks/data_table.ipynb>data table notebook</a>'\n",
       "            + ' to learn more about interactive tables.';\n",
       "          element.innerHTML = '';\n",
       "          dataTable['output_type'] = 'display_data';\n",
       "          await google.colab.output.renderOutput(dataTable, element);\n",
       "          const docLink = document.createElement('div');\n",
       "          docLink.innerHTML = docLinkHtml;\n",
       "          element.appendChild(docLink);\n",
       "        }\n",
       "      </script>\n",
       "    </div>\n",
       "  </div>\n",
       "  "
      ]
     },
     "metadata": {},
     "execution_count": 7
    }
   ]
  },
  {
   "cell_type": "code",
   "source": [
    "plotnum = sample_results.ParticipantID.nunique()\n",
    "grouped = traj_post[\n",
    "    (traj_post.TrialNum == 9) & (traj_post.SubjectNum.isin(sample_results.ParticipantID.to_list()))].groupby(\n",
    "    'SubjectNum')\n",
    "fig, axs = plt.subplots(plotnum, figsize=(7, 5 * plotnum), sharex=True, sharey=True)\n",
    "i = 0\n",
    "for key, gp in grouped:\n",
    "    gp.plot(ax=axs[i], x='X', y='Z', color='blue', alpha=0.5)\n",
    "    gp.plot(ax=axs[i], x='X_d', y='Z_d', color='red', alpha=0.5)\n",
    "    axs[i].set_title('Subject=%s' % key)\n",
    "    axs[i].get_legend().remove()\n",
    "    i = i + 1\n",
    "plt.show()"
   ],
   "metadata": {
    "colab": {
     "base_uri": "https://localhost:8080/",
     "height": 894
    },
    "id": "l9ONG2Y4vTRD",
    "outputId": "a3d76639-eeeb-43a0-d28a-44922a9a89e5"
   },
   "execution_count": null,
   "outputs": [
    {
     "output_type": "display_data",
     "data": {
      "text/plain": [
       "<Figure size 504x1080 with 3 Axes>"
      ],
      "image/png": "[encoded data removed]"
     },
     "metadata": {
      "needs_background": "light"
     }
    }
   ]
  }
 ],
 "metadata": {
  "colab": {
   "provenance": [
    {
     "file_id": "1Qk53mbM8NPi-vuGwJa35N08qeSVoG0qj",
     "timestamp": 1670706811534
    },
    {
     "file_id": "https://github.com/CarolHeChuanxiuyue/Psychonomics_Spatial_Cognition/blob/main/immersive_VR_main_Analysis.ipynb",
     "timestamp": 1670632782991
    }
   ],
   "collapsed_sections": [
    "T57wb6oLrqeq",
    "uPYYChxvr6iQ",
    "dnFGsg5gsGq6"
   ]
  },
  "kernelspec": {
   "name": "python3",
   "language": "python",
   "display_name": "Python 3 (ipykernel)"
  },
  "language_info": {
   "name": "python"
  }
 },
 "nbformat": 4,
 "nbformat_minor": 0
}
